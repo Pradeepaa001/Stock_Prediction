{
 "cells": [
  {
   "cell_type": "code",
   "execution_count": 366,
   "id": "633bcc9b",
   "metadata": {},
   "outputs": [],
   "source": [
    "import yfinance as yf\n",
    "import pandas as pd\n",
    "import numpy as np\n",
    "from sklearn import metrics\n",
    "from scipy import stats\n",
    "import matplotlib.pyplot as plt\n",
    "from sklearn.model_selection import train_test_split\n",
    "from sklearn.linear_model import LinearRegression\n",
    "from sklearn.metrics import confusion_matrix,accuracy_score\n",
    "import math"
   ]
  },
  {
   "cell_type": "code",
   "execution_count": 367,
   "id": "40800af1",
   "metadata": {},
   "outputs": [
    {
     "name": "stdout",
     "output_type": "stream",
     "text": [
      "Enter ticket name: TATAMOTORS\n",
      "Enter country name: NS\n"
     ]
    },
    {
     "name": "stderr",
     "output_type": "stream",
     "text": [
      "[*********************100%%**********************]  1 of 1 completed\n"
     ]
    }
   ],
   "source": [
    "tickers=input(\"Enter ticket name: \").upper()\n",
    "coun=input(\"Enter country name: \").upper()\n",
    "df=yf.download(tickers+'.'+coun,period='5y')"
   ]
  },
  {
   "cell_type": "code",
   "execution_count": 368,
   "id": "dd884723",
   "metadata": {},
   "outputs": [
    {
     "data": {
      "text/html": [
       "<div>\n",
       "<style scoped>\n",
       "    .dataframe tbody tr th:only-of-type {\n",
       "        vertical-align: middle;\n",
       "    }\n",
       "\n",
       "    .dataframe tbody tr th {\n",
       "        vertical-align: top;\n",
       "    }\n",
       "\n",
       "    .dataframe thead th {\n",
       "        text-align: right;\n",
       "    }\n",
       "</style>\n",
       "<table border=\"1\" class=\"dataframe\">\n",
       "  <thead>\n",
       "    <tr style=\"text-align: right;\">\n",
       "      <th></th>\n",
       "      <th>Open</th>\n",
       "      <th>High</th>\n",
       "      <th>Low</th>\n",
       "      <th>Close</th>\n",
       "      <th>Adj Close</th>\n",
       "      <th>Volume</th>\n",
       "    </tr>\n",
       "    <tr>\n",
       "      <th>Date</th>\n",
       "      <th></th>\n",
       "      <th></th>\n",
       "      <th></th>\n",
       "      <th></th>\n",
       "      <th></th>\n",
       "      <th></th>\n",
       "    </tr>\n",
       "  </thead>\n",
       "  <tbody>\n",
       "    <tr>\n",
       "      <th>2019-04-12</th>\n",
       "      <td>218.949997</td>\n",
       "      <td>219.000000</td>\n",
       "      <td>215.000000</td>\n",
       "      <td>215.949997</td>\n",
       "      <td>215.279037</td>\n",
       "      <td>21788548</td>\n",
       "    </tr>\n",
       "    <tr>\n",
       "      <th>2019-04-15</th>\n",
       "      <td>217.149994</td>\n",
       "      <td>233.250000</td>\n",
       "      <td>217.149994</td>\n",
       "      <td>231.750000</td>\n",
       "      <td>231.029953</td>\n",
       "      <td>57283251</td>\n",
       "    </tr>\n",
       "    <tr>\n",
       "      <th>2019-04-16</th>\n",
       "      <td>233.800003</td>\n",
       "      <td>234.100006</td>\n",
       "      <td>225.649994</td>\n",
       "      <td>230.500000</td>\n",
       "      <td>229.783829</td>\n",
       "      <td>41653657</td>\n",
       "    </tr>\n",
       "    <tr>\n",
       "      <th>2019-04-18</th>\n",
       "      <td>231.899994</td>\n",
       "      <td>239.300003</td>\n",
       "      <td>230.600006</td>\n",
       "      <td>236.250000</td>\n",
       "      <td>235.515976</td>\n",
       "      <td>42451178</td>\n",
       "    </tr>\n",
       "    <tr>\n",
       "      <th>2019-04-22</th>\n",
       "      <td>235.000000</td>\n",
       "      <td>239.350006</td>\n",
       "      <td>231.699997</td>\n",
       "      <td>234.850006</td>\n",
       "      <td>234.120331</td>\n",
       "      <td>30282217</td>\n",
       "    </tr>\n",
       "    <tr>\n",
       "      <th>...</th>\n",
       "      <td>...</td>\n",
       "      <td>...</td>\n",
       "      <td>...</td>\n",
       "      <td>...</td>\n",
       "      <td>...</td>\n",
       "      <td>...</td>\n",
       "    </tr>\n",
       "    <tr>\n",
       "      <th>2024-04-05</th>\n",
       "      <td>1011.599976</td>\n",
       "      <td>1012.500000</td>\n",
       "      <td>1004.400024</td>\n",
       "      <td>1007.099976</td>\n",
       "      <td>1007.099976</td>\n",
       "      <td>4519120</td>\n",
       "    </tr>\n",
       "    <tr>\n",
       "      <th>2024-04-08</th>\n",
       "      <td>1010.049988</td>\n",
       "      <td>1016.400024</td>\n",
       "      <td>1004.000000</td>\n",
       "      <td>1013.200012</td>\n",
       "      <td>1013.200012</td>\n",
       "      <td>5188052</td>\n",
       "    </tr>\n",
       "    <tr>\n",
       "      <th>2024-04-09</th>\n",
       "      <td>1021.000000</td>\n",
       "      <td>1029.500000</td>\n",
       "      <td>1005.000000</td>\n",
       "      <td>1008.500000</td>\n",
       "      <td>1008.500000</td>\n",
       "      <td>8539041</td>\n",
       "    </tr>\n",
       "    <tr>\n",
       "      <th>2024-04-10</th>\n",
       "      <td>1012.250000</td>\n",
       "      <td>1021.000000</td>\n",
       "      <td>1010.000000</td>\n",
       "      <td>1013.500000</td>\n",
       "      <td>1013.500000</td>\n",
       "      <td>4554077</td>\n",
       "    </tr>\n",
       "    <tr>\n",
       "      <th>2024-04-12</th>\n",
       "      <td>1014.000000</td>\n",
       "      <td>1029.000000</td>\n",
       "      <td>1013.500000</td>\n",
       "      <td>1018.500000</td>\n",
       "      <td>1018.500000</td>\n",
       "      <td>11575194</td>\n",
       "    </tr>\n",
       "  </tbody>\n",
       "</table>\n",
       "<p>1235 rows × 6 columns</p>\n",
       "</div>"
      ],
      "text/plain": [
       "                   Open         High          Low        Close    Adj Close  \\\n",
       "Date                                                                          \n",
       "2019-04-12   218.949997   219.000000   215.000000   215.949997   215.279037   \n",
       "2019-04-15   217.149994   233.250000   217.149994   231.750000   231.029953   \n",
       "2019-04-16   233.800003   234.100006   225.649994   230.500000   229.783829   \n",
       "2019-04-18   231.899994   239.300003   230.600006   236.250000   235.515976   \n",
       "2019-04-22   235.000000   239.350006   231.699997   234.850006   234.120331   \n",
       "...                 ...          ...          ...          ...          ...   \n",
       "2024-04-05  1011.599976  1012.500000  1004.400024  1007.099976  1007.099976   \n",
       "2024-04-08  1010.049988  1016.400024  1004.000000  1013.200012  1013.200012   \n",
       "2024-04-09  1021.000000  1029.500000  1005.000000  1008.500000  1008.500000   \n",
       "2024-04-10  1012.250000  1021.000000  1010.000000  1013.500000  1013.500000   \n",
       "2024-04-12  1014.000000  1029.000000  1013.500000  1018.500000  1018.500000   \n",
       "\n",
       "              Volume  \n",
       "Date                  \n",
       "2019-04-12  21788548  \n",
       "2019-04-15  57283251  \n",
       "2019-04-16  41653657  \n",
       "2019-04-18  42451178  \n",
       "2019-04-22  30282217  \n",
       "...              ...  \n",
       "2024-04-05   4519120  \n",
       "2024-04-08   5188052  \n",
       "2024-04-09   8539041  \n",
       "2024-04-10   4554077  \n",
       "2024-04-12  11575194  \n",
       "\n",
       "[1235 rows x 6 columns]"
      ]
     },
     "execution_count": 368,
     "metadata": {},
     "output_type": "execute_result"
    }
   ],
   "source": [
    "df"
   ]
  },
  {
   "cell_type": "code",
   "execution_count": 369,
   "id": "f9e36894",
   "metadata": {},
   "outputs": [
    {
     "data": {
      "text/plain": [
       "Open         float64\n",
       "High         float64\n",
       "Low          float64\n",
       "Close        float64\n",
       "Adj Close    float64\n",
       "Volume         int64\n",
       "dtype: object"
      ]
     },
     "execution_count": 369,
     "metadata": {},
     "output_type": "execute_result"
    }
   ],
   "source": [
    "df.dtypes"
   ]
  },
  {
   "cell_type": "code",
   "execution_count": 370,
   "id": "52722d62",
   "metadata": {},
   "outputs": [
    {
     "data": {
      "text/plain": [
       "Open         0\n",
       "High         0\n",
       "Low          0\n",
       "Close        0\n",
       "Adj Close    0\n",
       "Volume       0\n",
       "dtype: int64"
      ]
     },
     "execution_count": 370,
     "metadata": {},
     "output_type": "execute_result"
    }
   ],
   "source": [
    "df.isna().sum()"
   ]
  },
  {
   "cell_type": "code",
   "execution_count": 371,
   "id": "36f9b184",
   "metadata": {},
   "outputs": [
    {
     "data": {
      "text/plain": [
       "dtype('float64')"
      ]
     },
     "execution_count": 371,
     "metadata": {},
     "output_type": "execute_result"
    }
   ],
   "source": [
    "df1=df.iloc[:,0]\n",
    "df1.dtypes"
   ]
  },
  {
   "cell_type": "code",
   "execution_count": 372,
   "id": "9f7dd792",
   "metadata": {},
   "outputs": [],
   "source": [
    "df['Date']=df.index"
   ]
  },
  {
   "cell_type": "code",
   "execution_count": 373,
   "id": "58cbc05a",
   "metadata": {},
   "outputs": [
    {
     "data": {
      "text/plain": [
       "(1235, 7)"
      ]
     },
     "execution_count": 373,
     "metadata": {},
     "output_type": "execute_result"
    }
   ],
   "source": [
    "df.shape"
   ]
  },
  {
   "cell_type": "code",
   "execution_count": 374,
   "id": "2a9ee887",
   "metadata": {},
   "outputs": [
    {
     "data": {
      "text/html": [
       "<div>\n",
       "<style scoped>\n",
       "    .dataframe tbody tr th:only-of-type {\n",
       "        vertical-align: middle;\n",
       "    }\n",
       "\n",
       "    .dataframe tbody tr th {\n",
       "        vertical-align: top;\n",
       "    }\n",
       "\n",
       "    .dataframe thead th {\n",
       "        text-align: right;\n",
       "    }\n",
       "</style>\n",
       "<table border=\"1\" class=\"dataframe\">\n",
       "  <thead>\n",
       "    <tr style=\"text-align: right;\">\n",
       "      <th></th>\n",
       "      <th>Open</th>\n",
       "      <th>High</th>\n",
       "      <th>Low</th>\n",
       "      <th>Close</th>\n",
       "      <th>Adj Close</th>\n",
       "      <th>Volume</th>\n",
       "      <th>Date</th>\n",
       "    </tr>\n",
       "  </thead>\n",
       "  <tbody>\n",
       "    <tr>\n",
       "      <th>0</th>\n",
       "      <td>218.949997</td>\n",
       "      <td>219.000000</td>\n",
       "      <td>215.000000</td>\n",
       "      <td>215.949997</td>\n",
       "      <td>215.279037</td>\n",
       "      <td>21788548</td>\n",
       "      <td>2019-04-12</td>\n",
       "    </tr>\n",
       "    <tr>\n",
       "      <th>1</th>\n",
       "      <td>217.149994</td>\n",
       "      <td>233.250000</td>\n",
       "      <td>217.149994</td>\n",
       "      <td>231.750000</td>\n",
       "      <td>231.029953</td>\n",
       "      <td>57283251</td>\n",
       "      <td>2019-04-15</td>\n",
       "    </tr>\n",
       "    <tr>\n",
       "      <th>2</th>\n",
       "      <td>233.800003</td>\n",
       "      <td>234.100006</td>\n",
       "      <td>225.649994</td>\n",
       "      <td>230.500000</td>\n",
       "      <td>229.783829</td>\n",
       "      <td>41653657</td>\n",
       "      <td>2019-04-16</td>\n",
       "    </tr>\n",
       "    <tr>\n",
       "      <th>3</th>\n",
       "      <td>231.899994</td>\n",
       "      <td>239.300003</td>\n",
       "      <td>230.600006</td>\n",
       "      <td>236.250000</td>\n",
       "      <td>235.515976</td>\n",
       "      <td>42451178</td>\n",
       "      <td>2019-04-18</td>\n",
       "    </tr>\n",
       "    <tr>\n",
       "      <th>4</th>\n",
       "      <td>235.000000</td>\n",
       "      <td>239.350006</td>\n",
       "      <td>231.699997</td>\n",
       "      <td>234.850006</td>\n",
       "      <td>234.120331</td>\n",
       "      <td>30282217</td>\n",
       "      <td>2019-04-22</td>\n",
       "    </tr>\n",
       "    <tr>\n",
       "      <th>...</th>\n",
       "      <td>...</td>\n",
       "      <td>...</td>\n",
       "      <td>...</td>\n",
       "      <td>...</td>\n",
       "      <td>...</td>\n",
       "      <td>...</td>\n",
       "      <td>...</td>\n",
       "    </tr>\n",
       "    <tr>\n",
       "      <th>1230</th>\n",
       "      <td>1011.599976</td>\n",
       "      <td>1012.500000</td>\n",
       "      <td>1004.400024</td>\n",
       "      <td>1007.099976</td>\n",
       "      <td>1007.099976</td>\n",
       "      <td>4519120</td>\n",
       "      <td>2024-04-05</td>\n",
       "    </tr>\n",
       "    <tr>\n",
       "      <th>1231</th>\n",
       "      <td>1010.049988</td>\n",
       "      <td>1016.400024</td>\n",
       "      <td>1004.000000</td>\n",
       "      <td>1013.200012</td>\n",
       "      <td>1013.200012</td>\n",
       "      <td>5188052</td>\n",
       "      <td>2024-04-08</td>\n",
       "    </tr>\n",
       "    <tr>\n",
       "      <th>1232</th>\n",
       "      <td>1021.000000</td>\n",
       "      <td>1029.500000</td>\n",
       "      <td>1005.000000</td>\n",
       "      <td>1008.500000</td>\n",
       "      <td>1008.500000</td>\n",
       "      <td>8539041</td>\n",
       "      <td>2024-04-09</td>\n",
       "    </tr>\n",
       "    <tr>\n",
       "      <th>1233</th>\n",
       "      <td>1012.250000</td>\n",
       "      <td>1021.000000</td>\n",
       "      <td>1010.000000</td>\n",
       "      <td>1013.500000</td>\n",
       "      <td>1013.500000</td>\n",
       "      <td>4554077</td>\n",
       "      <td>2024-04-10</td>\n",
       "    </tr>\n",
       "    <tr>\n",
       "      <th>1234</th>\n",
       "      <td>1014.000000</td>\n",
       "      <td>1029.000000</td>\n",
       "      <td>1013.500000</td>\n",
       "      <td>1018.500000</td>\n",
       "      <td>1018.500000</td>\n",
       "      <td>11575194</td>\n",
       "      <td>2024-04-12</td>\n",
       "    </tr>\n",
       "  </tbody>\n",
       "</table>\n",
       "<p>1235 rows × 7 columns</p>\n",
       "</div>"
      ],
      "text/plain": [
       "             Open         High          Low        Close    Adj Close  \\\n",
       "0      218.949997   219.000000   215.000000   215.949997   215.279037   \n",
       "1      217.149994   233.250000   217.149994   231.750000   231.029953   \n",
       "2      233.800003   234.100006   225.649994   230.500000   229.783829   \n",
       "3      231.899994   239.300003   230.600006   236.250000   235.515976   \n",
       "4      235.000000   239.350006   231.699997   234.850006   234.120331   \n",
       "...           ...          ...          ...          ...          ...   \n",
       "1230  1011.599976  1012.500000  1004.400024  1007.099976  1007.099976   \n",
       "1231  1010.049988  1016.400024  1004.000000  1013.200012  1013.200012   \n",
       "1232  1021.000000  1029.500000  1005.000000  1008.500000  1008.500000   \n",
       "1233  1012.250000  1021.000000  1010.000000  1013.500000  1013.500000   \n",
       "1234  1014.000000  1029.000000  1013.500000  1018.500000  1018.500000   \n",
       "\n",
       "        Volume       Date  \n",
       "0     21788548 2019-04-12  \n",
       "1     57283251 2019-04-15  \n",
       "2     41653657 2019-04-16  \n",
       "3     42451178 2019-04-18  \n",
       "4     30282217 2019-04-22  \n",
       "...        ...        ...  \n",
       "1230   4519120 2024-04-05  \n",
       "1231   5188052 2024-04-08  \n",
       "1232   8539041 2024-04-09  \n",
       "1233   4554077 2024-04-10  \n",
       "1234  11575194 2024-04-12  \n",
       "\n",
       "[1235 rows x 7 columns]"
      ]
     },
     "execution_count": 374,
     "metadata": {},
     "output_type": "execute_result"
    }
   ],
   "source": [
    "df.index=[i for i in range(0,df.shape[0])]\n",
    "df"
   ]
  },
  {
   "cell_type": "code",
   "execution_count": 375,
   "id": "299251d4",
   "metadata": {},
   "outputs": [],
   "source": [
    "L=df['Date'].to_numpy()\n",
    "df.insert(0,'DATE',L)"
   ]
  },
  {
   "cell_type": "code",
   "execution_count": 376,
   "id": "a4f01174",
   "metadata": {},
   "outputs": [],
   "source": [
    "df.rename(columns={'DATE':'Date'},inplace=True)"
   ]
  },
  {
   "cell_type": "code",
   "execution_count": 377,
   "id": "35f82519",
   "metadata": {},
   "outputs": [
    {
     "data": {
      "text/html": [
       "<div>\n",
       "<style scoped>\n",
       "    .dataframe tbody tr th:only-of-type {\n",
       "        vertical-align: middle;\n",
       "    }\n",
       "\n",
       "    .dataframe tbody tr th {\n",
       "        vertical-align: top;\n",
       "    }\n",
       "\n",
       "    .dataframe thead th {\n",
       "        text-align: right;\n",
       "    }\n",
       "</style>\n",
       "<table border=\"1\" class=\"dataframe\">\n",
       "  <thead>\n",
       "    <tr style=\"text-align: right;\">\n",
       "      <th></th>\n",
       "      <th>Date</th>\n",
       "      <th>Open</th>\n",
       "      <th>High</th>\n",
       "      <th>Low</th>\n",
       "      <th>Close</th>\n",
       "      <th>Adj Close</th>\n",
       "      <th>Volume</th>\n",
       "      <th>Date</th>\n",
       "    </tr>\n",
       "  </thead>\n",
       "  <tbody>\n",
       "    <tr>\n",
       "      <th>0</th>\n",
       "      <td>2019-04-12</td>\n",
       "      <td>218.949997</td>\n",
       "      <td>219.000000</td>\n",
       "      <td>215.000000</td>\n",
       "      <td>215.949997</td>\n",
       "      <td>215.279037</td>\n",
       "      <td>21788548</td>\n",
       "      <td>2019-04-12</td>\n",
       "    </tr>\n",
       "    <tr>\n",
       "      <th>1</th>\n",
       "      <td>2019-04-15</td>\n",
       "      <td>217.149994</td>\n",
       "      <td>233.250000</td>\n",
       "      <td>217.149994</td>\n",
       "      <td>231.750000</td>\n",
       "      <td>231.029953</td>\n",
       "      <td>57283251</td>\n",
       "      <td>2019-04-15</td>\n",
       "    </tr>\n",
       "    <tr>\n",
       "      <th>2</th>\n",
       "      <td>2019-04-16</td>\n",
       "      <td>233.800003</td>\n",
       "      <td>234.100006</td>\n",
       "      <td>225.649994</td>\n",
       "      <td>230.500000</td>\n",
       "      <td>229.783829</td>\n",
       "      <td>41653657</td>\n",
       "      <td>2019-04-16</td>\n",
       "    </tr>\n",
       "    <tr>\n",
       "      <th>3</th>\n",
       "      <td>2019-04-18</td>\n",
       "      <td>231.899994</td>\n",
       "      <td>239.300003</td>\n",
       "      <td>230.600006</td>\n",
       "      <td>236.250000</td>\n",
       "      <td>235.515976</td>\n",
       "      <td>42451178</td>\n",
       "      <td>2019-04-18</td>\n",
       "    </tr>\n",
       "    <tr>\n",
       "      <th>4</th>\n",
       "      <td>2019-04-22</td>\n",
       "      <td>235.000000</td>\n",
       "      <td>239.350006</td>\n",
       "      <td>231.699997</td>\n",
       "      <td>234.850006</td>\n",
       "      <td>234.120331</td>\n",
       "      <td>30282217</td>\n",
       "      <td>2019-04-22</td>\n",
       "    </tr>\n",
       "    <tr>\n",
       "      <th>...</th>\n",
       "      <td>...</td>\n",
       "      <td>...</td>\n",
       "      <td>...</td>\n",
       "      <td>...</td>\n",
       "      <td>...</td>\n",
       "      <td>...</td>\n",
       "      <td>...</td>\n",
       "      <td>...</td>\n",
       "    </tr>\n",
       "    <tr>\n",
       "      <th>1230</th>\n",
       "      <td>2024-04-05</td>\n",
       "      <td>1011.599976</td>\n",
       "      <td>1012.500000</td>\n",
       "      <td>1004.400024</td>\n",
       "      <td>1007.099976</td>\n",
       "      <td>1007.099976</td>\n",
       "      <td>4519120</td>\n",
       "      <td>2024-04-05</td>\n",
       "    </tr>\n",
       "    <tr>\n",
       "      <th>1231</th>\n",
       "      <td>2024-04-08</td>\n",
       "      <td>1010.049988</td>\n",
       "      <td>1016.400024</td>\n",
       "      <td>1004.000000</td>\n",
       "      <td>1013.200012</td>\n",
       "      <td>1013.200012</td>\n",
       "      <td>5188052</td>\n",
       "      <td>2024-04-08</td>\n",
       "    </tr>\n",
       "    <tr>\n",
       "      <th>1232</th>\n",
       "      <td>2024-04-09</td>\n",
       "      <td>1021.000000</td>\n",
       "      <td>1029.500000</td>\n",
       "      <td>1005.000000</td>\n",
       "      <td>1008.500000</td>\n",
       "      <td>1008.500000</td>\n",
       "      <td>8539041</td>\n",
       "      <td>2024-04-09</td>\n",
       "    </tr>\n",
       "    <tr>\n",
       "      <th>1233</th>\n",
       "      <td>2024-04-10</td>\n",
       "      <td>1012.250000</td>\n",
       "      <td>1021.000000</td>\n",
       "      <td>1010.000000</td>\n",
       "      <td>1013.500000</td>\n",
       "      <td>1013.500000</td>\n",
       "      <td>4554077</td>\n",
       "      <td>2024-04-10</td>\n",
       "    </tr>\n",
       "    <tr>\n",
       "      <th>1234</th>\n",
       "      <td>2024-04-12</td>\n",
       "      <td>1014.000000</td>\n",
       "      <td>1029.000000</td>\n",
       "      <td>1013.500000</td>\n",
       "      <td>1018.500000</td>\n",
       "      <td>1018.500000</td>\n",
       "      <td>11575194</td>\n",
       "      <td>2024-04-12</td>\n",
       "    </tr>\n",
       "  </tbody>\n",
       "</table>\n",
       "<p>1235 rows × 8 columns</p>\n",
       "</div>"
      ],
      "text/plain": [
       "           Date         Open         High          Low        Close  \\\n",
       "0    2019-04-12   218.949997   219.000000   215.000000   215.949997   \n",
       "1    2019-04-15   217.149994   233.250000   217.149994   231.750000   \n",
       "2    2019-04-16   233.800003   234.100006   225.649994   230.500000   \n",
       "3    2019-04-18   231.899994   239.300003   230.600006   236.250000   \n",
       "4    2019-04-22   235.000000   239.350006   231.699997   234.850006   \n",
       "...         ...          ...          ...          ...          ...   \n",
       "1230 2024-04-05  1011.599976  1012.500000  1004.400024  1007.099976   \n",
       "1231 2024-04-08  1010.049988  1016.400024  1004.000000  1013.200012   \n",
       "1232 2024-04-09  1021.000000  1029.500000  1005.000000  1008.500000   \n",
       "1233 2024-04-10  1012.250000  1021.000000  1010.000000  1013.500000   \n",
       "1234 2024-04-12  1014.000000  1029.000000  1013.500000  1018.500000   \n",
       "\n",
       "        Adj Close    Volume       Date  \n",
       "0      215.279037  21788548 2019-04-12  \n",
       "1      231.029953  57283251 2019-04-15  \n",
       "2      229.783829  41653657 2019-04-16  \n",
       "3      235.515976  42451178 2019-04-18  \n",
       "4      234.120331  30282217 2019-04-22  \n",
       "...           ...       ...        ...  \n",
       "1230  1007.099976   4519120 2024-04-05  \n",
       "1231  1013.200012   5188052 2024-04-08  \n",
       "1232  1008.500000   8539041 2024-04-09  \n",
       "1233  1013.500000   4554077 2024-04-10  \n",
       "1234  1018.500000  11575194 2024-04-12  \n",
       "\n",
       "[1235 rows x 8 columns]"
      ]
     },
     "execution_count": 377,
     "metadata": {},
     "output_type": "execute_result"
    }
   ],
   "source": [
    "df"
   ]
  },
  {
   "cell_type": "code",
   "execution_count": 378,
   "id": "ee2a1cf5",
   "metadata": {},
   "outputs": [
    {
     "data": {
      "text/plain": [
       "Date    datetime64[ns]\n",
       "Date    datetime64[ns]\n",
       "dtype: object"
      ]
     },
     "execution_count": 378,
     "metadata": {},
     "output_type": "execute_result"
    }
   ],
   "source": [
    "df['Date'].dtypes"
   ]
  },
  {
   "cell_type": "code",
   "execution_count": 379,
   "id": "82c6d89f",
   "metadata": {},
   "outputs": [],
   "source": [
    "df['Return'] = np.log((df['Close'].diff() / df['Close'].shift(1))+1)"
   ]
  },
  {
   "cell_type": "code",
   "execution_count": 380,
   "id": "4d13d95b",
   "metadata": {},
   "outputs": [],
   "source": [
    "df.loc[0,'Return']=df['Return'].mean()"
   ]
  },
  {
   "cell_type": "code",
   "execution_count": 381,
   "id": "445e8e3f",
   "metadata": {
    "scrolled": true
   },
   "outputs": [
    {
     "data": {
      "text/html": [
       "<div>\n",
       "<style scoped>\n",
       "    .dataframe tbody tr th:only-of-type {\n",
       "        vertical-align: middle;\n",
       "    }\n",
       "\n",
       "    .dataframe tbody tr th {\n",
       "        vertical-align: top;\n",
       "    }\n",
       "\n",
       "    .dataframe thead th {\n",
       "        text-align: right;\n",
       "    }\n",
       "</style>\n",
       "<table border=\"1\" class=\"dataframe\">\n",
       "  <thead>\n",
       "    <tr style=\"text-align: right;\">\n",
       "      <th></th>\n",
       "      <th>Date</th>\n",
       "      <th>Open</th>\n",
       "      <th>High</th>\n",
       "      <th>Low</th>\n",
       "      <th>Close</th>\n",
       "      <th>Adj Close</th>\n",
       "      <th>Volume</th>\n",
       "      <th>Date</th>\n",
       "      <th>Return</th>\n",
       "    </tr>\n",
       "  </thead>\n",
       "  <tbody>\n",
       "    <tr>\n",
       "      <th>0</th>\n",
       "      <td>2019-04-12</td>\n",
       "      <td>218.949997</td>\n",
       "      <td>219.000000</td>\n",
       "      <td>215.000000</td>\n",
       "      <td>215.949997</td>\n",
       "      <td>215.279037</td>\n",
       "      <td>21788548</td>\n",
       "      <td>2019-04-12</td>\n",
       "      <td>0.001257</td>\n",
       "    </tr>\n",
       "    <tr>\n",
       "      <th>1</th>\n",
       "      <td>2019-04-15</td>\n",
       "      <td>217.149994</td>\n",
       "      <td>233.250000</td>\n",
       "      <td>217.149994</td>\n",
       "      <td>231.750000</td>\n",
       "      <td>231.029953</td>\n",
       "      <td>57283251</td>\n",
       "      <td>2019-04-15</td>\n",
       "      <td>0.070612</td>\n",
       "    </tr>\n",
       "    <tr>\n",
       "      <th>2</th>\n",
       "      <td>2019-04-16</td>\n",
       "      <td>233.800003</td>\n",
       "      <td>234.100006</td>\n",
       "      <td>225.649994</td>\n",
       "      <td>230.500000</td>\n",
       "      <td>229.783829</td>\n",
       "      <td>41653657</td>\n",
       "      <td>2019-04-16</td>\n",
       "      <td>-0.005408</td>\n",
       "    </tr>\n",
       "    <tr>\n",
       "      <th>3</th>\n",
       "      <td>2019-04-18</td>\n",
       "      <td>231.899994</td>\n",
       "      <td>239.300003</td>\n",
       "      <td>230.600006</td>\n",
       "      <td>236.250000</td>\n",
       "      <td>235.515976</td>\n",
       "      <td>42451178</td>\n",
       "      <td>2019-04-18</td>\n",
       "      <td>0.024640</td>\n",
       "    </tr>\n",
       "    <tr>\n",
       "      <th>4</th>\n",
       "      <td>2019-04-22</td>\n",
       "      <td>235.000000</td>\n",
       "      <td>239.350006</td>\n",
       "      <td>231.699997</td>\n",
       "      <td>234.850006</td>\n",
       "      <td>234.120331</td>\n",
       "      <td>30282217</td>\n",
       "      <td>2019-04-22</td>\n",
       "      <td>-0.005944</td>\n",
       "    </tr>\n",
       "    <tr>\n",
       "      <th>...</th>\n",
       "      <td>...</td>\n",
       "      <td>...</td>\n",
       "      <td>...</td>\n",
       "      <td>...</td>\n",
       "      <td>...</td>\n",
       "      <td>...</td>\n",
       "      <td>...</td>\n",
       "      <td>...</td>\n",
       "      <td>...</td>\n",
       "    </tr>\n",
       "    <tr>\n",
       "      <th>1230</th>\n",
       "      <td>2024-04-05</td>\n",
       "      <td>1011.599976</td>\n",
       "      <td>1012.500000</td>\n",
       "      <td>1004.400024</td>\n",
       "      <td>1007.099976</td>\n",
       "      <td>1007.099976</td>\n",
       "      <td>4519120</td>\n",
       "      <td>2024-04-05</td>\n",
       "      <td>-0.004458</td>\n",
       "    </tr>\n",
       "    <tr>\n",
       "      <th>1231</th>\n",
       "      <td>2024-04-08</td>\n",
       "      <td>1010.049988</td>\n",
       "      <td>1016.400024</td>\n",
       "      <td>1004.000000</td>\n",
       "      <td>1013.200012</td>\n",
       "      <td>1013.200012</td>\n",
       "      <td>5188052</td>\n",
       "      <td>2024-04-08</td>\n",
       "      <td>0.006039</td>\n",
       "    </tr>\n",
       "    <tr>\n",
       "      <th>1232</th>\n",
       "      <td>2024-04-09</td>\n",
       "      <td>1021.000000</td>\n",
       "      <td>1029.500000</td>\n",
       "      <td>1005.000000</td>\n",
       "      <td>1008.500000</td>\n",
       "      <td>1008.500000</td>\n",
       "      <td>8539041</td>\n",
       "      <td>2024-04-09</td>\n",
       "      <td>-0.004650</td>\n",
       "    </tr>\n",
       "    <tr>\n",
       "      <th>1233</th>\n",
       "      <td>2024-04-10</td>\n",
       "      <td>1012.250000</td>\n",
       "      <td>1021.000000</td>\n",
       "      <td>1010.000000</td>\n",
       "      <td>1013.500000</td>\n",
       "      <td>1013.500000</td>\n",
       "      <td>4554077</td>\n",
       "      <td>2024-04-10</td>\n",
       "      <td>0.004946</td>\n",
       "    </tr>\n",
       "    <tr>\n",
       "      <th>1234</th>\n",
       "      <td>2024-04-12</td>\n",
       "      <td>1014.000000</td>\n",
       "      <td>1029.000000</td>\n",
       "      <td>1013.500000</td>\n",
       "      <td>1018.500000</td>\n",
       "      <td>1018.500000</td>\n",
       "      <td>11575194</td>\n",
       "      <td>2024-04-12</td>\n",
       "      <td>0.004921</td>\n",
       "    </tr>\n",
       "  </tbody>\n",
       "</table>\n",
       "<p>1235 rows × 9 columns</p>\n",
       "</div>"
      ],
      "text/plain": [
       "           Date         Open         High          Low        Close  \\\n",
       "0    2019-04-12   218.949997   219.000000   215.000000   215.949997   \n",
       "1    2019-04-15   217.149994   233.250000   217.149994   231.750000   \n",
       "2    2019-04-16   233.800003   234.100006   225.649994   230.500000   \n",
       "3    2019-04-18   231.899994   239.300003   230.600006   236.250000   \n",
       "4    2019-04-22   235.000000   239.350006   231.699997   234.850006   \n",
       "...         ...          ...          ...          ...          ...   \n",
       "1230 2024-04-05  1011.599976  1012.500000  1004.400024  1007.099976   \n",
       "1231 2024-04-08  1010.049988  1016.400024  1004.000000  1013.200012   \n",
       "1232 2024-04-09  1021.000000  1029.500000  1005.000000  1008.500000   \n",
       "1233 2024-04-10  1012.250000  1021.000000  1010.000000  1013.500000   \n",
       "1234 2024-04-12  1014.000000  1029.000000  1013.500000  1018.500000   \n",
       "\n",
       "        Adj Close    Volume       Date    Return  \n",
       "0      215.279037  21788548 2019-04-12  0.001257  \n",
       "1      231.029953  57283251 2019-04-15  0.070612  \n",
       "2      229.783829  41653657 2019-04-16 -0.005408  \n",
       "3      235.515976  42451178 2019-04-18  0.024640  \n",
       "4      234.120331  30282217 2019-04-22 -0.005944  \n",
       "...           ...       ...        ...       ...  \n",
       "1230  1007.099976   4519120 2024-04-05 -0.004458  \n",
       "1231  1013.200012   5188052 2024-04-08  0.006039  \n",
       "1232  1008.500000   8539041 2024-04-09 -0.004650  \n",
       "1233  1013.500000   4554077 2024-04-10  0.004946  \n",
       "1234  1018.500000  11575194 2024-04-12  0.004921  \n",
       "\n",
       "[1235 rows x 9 columns]"
      ]
     },
     "execution_count": 381,
     "metadata": {},
     "output_type": "execute_result"
    }
   ],
   "source": [
    "df"
   ]
  },
  {
   "cell_type": "code",
   "execution_count": 382,
   "id": "77e4960f",
   "metadata": {},
   "outputs": [],
   "source": [
    "z_scores = np.abs(stats.zscore(df['Return']))\n",
    "threshold = 3\n",
    "outliers_zscore = df[np.abs(z_scores)>threshold]"
   ]
  },
  {
   "cell_type": "code",
   "execution_count": 383,
   "id": "902b0124",
   "metadata": {},
   "outputs": [
    {
     "data": {
      "image/png": "[encoded data removed]",
      "text/plain": [
       "<Figure size 640x480 with 1 Axes>"
      ]
     },
     "metadata": {},
     "output_type": "display_data"
    }
   ],
   "source": [
    "plt.plot(df['Date'],df['Close'])\n",
    "plt.show()"
   ]
  },
  {
   "cell_type": "code",
   "execution_count": 384,
   "id": "72282d02",
   "metadata": {},
   "outputs": [],
   "source": [
    "x=df[['Open','High','Low','Volume']]\n",
    "y=df['Close']"
   ]
  },
  {
   "cell_type": "code",
   "execution_count": 385,
   "id": "ae7bb4eb",
   "metadata": {},
   "outputs": [
    {
     "data": {
      "text/html": [
       "<div>\n",
       "<style scoped>\n",
       "    .dataframe tbody tr th:only-of-type {\n",
       "        vertical-align: middle;\n",
       "    }\n",
       "\n",
       "    .dataframe tbody tr th {\n",
       "        vertical-align: top;\n",
       "    }\n",
       "\n",
       "    .dataframe thead th {\n",
       "        text-align: right;\n",
       "    }\n",
       "</style>\n",
       "<table border=\"1\" class=\"dataframe\">\n",
       "  <thead>\n",
       "    <tr style=\"text-align: right;\">\n",
       "      <th></th>\n",
       "      <th>Open</th>\n",
       "      <th>High</th>\n",
       "      <th>Low</th>\n",
       "      <th>Volume</th>\n",
       "    </tr>\n",
       "  </thead>\n",
       "  <tbody>\n",
       "    <tr>\n",
       "      <th>0</th>\n",
       "      <td>218.949997</td>\n",
       "      <td>219.000000</td>\n",
       "      <td>215.000000</td>\n",
       "      <td>21788548</td>\n",
       "    </tr>\n",
       "    <tr>\n",
       "      <th>1</th>\n",
       "      <td>217.149994</td>\n",
       "      <td>233.250000</td>\n",
       "      <td>217.149994</td>\n",
       "      <td>57283251</td>\n",
       "    </tr>\n",
       "    <tr>\n",
       "      <th>2</th>\n",
       "      <td>233.800003</td>\n",
       "      <td>234.100006</td>\n",
       "      <td>225.649994</td>\n",
       "      <td>41653657</td>\n",
       "    </tr>\n",
       "    <tr>\n",
       "      <th>3</th>\n",
       "      <td>231.899994</td>\n",
       "      <td>239.300003</td>\n",
       "      <td>230.600006</td>\n",
       "      <td>42451178</td>\n",
       "    </tr>\n",
       "    <tr>\n",
       "      <th>4</th>\n",
       "      <td>235.000000</td>\n",
       "      <td>239.350006</td>\n",
       "      <td>231.699997</td>\n",
       "      <td>30282217</td>\n",
       "    </tr>\n",
       "    <tr>\n",
       "      <th>...</th>\n",
       "      <td>...</td>\n",
       "      <td>...</td>\n",
       "      <td>...</td>\n",
       "      <td>...</td>\n",
       "    </tr>\n",
       "    <tr>\n",
       "      <th>1230</th>\n",
       "      <td>1011.599976</td>\n",
       "      <td>1012.500000</td>\n",
       "      <td>1004.400024</td>\n",
       "      <td>4519120</td>\n",
       "    </tr>\n",
       "    <tr>\n",
       "      <th>1231</th>\n",
       "      <td>1010.049988</td>\n",
       "      <td>1016.400024</td>\n",
       "      <td>1004.000000</td>\n",
       "      <td>5188052</td>\n",
       "    </tr>\n",
       "    <tr>\n",
       "      <th>1232</th>\n",
       "      <td>1021.000000</td>\n",
       "      <td>1029.500000</td>\n",
       "      <td>1005.000000</td>\n",
       "      <td>8539041</td>\n",
       "    </tr>\n",
       "    <tr>\n",
       "      <th>1233</th>\n",
       "      <td>1012.250000</td>\n",
       "      <td>1021.000000</td>\n",
       "      <td>1010.000000</td>\n",
       "      <td>4554077</td>\n",
       "    </tr>\n",
       "    <tr>\n",
       "      <th>1234</th>\n",
       "      <td>1014.000000</td>\n",
       "      <td>1029.000000</td>\n",
       "      <td>1013.500000</td>\n",
       "      <td>11575194</td>\n",
       "    </tr>\n",
       "  </tbody>\n",
       "</table>\n",
       "<p>1235 rows × 4 columns</p>\n",
       "</div>"
      ],
      "text/plain": [
       "             Open         High          Low    Volume\n",
       "0      218.949997   219.000000   215.000000  21788548\n",
       "1      217.149994   233.250000   217.149994  57283251\n",
       "2      233.800003   234.100006   225.649994  41653657\n",
       "3      231.899994   239.300003   230.600006  42451178\n",
       "4      235.000000   239.350006   231.699997  30282217\n",
       "...           ...          ...          ...       ...\n",
       "1230  1011.599976  1012.500000  1004.400024   4519120\n",
       "1231  1010.049988  1016.400024  1004.000000   5188052\n",
       "1232  1021.000000  1029.500000  1005.000000   8539041\n",
       "1233  1012.250000  1021.000000  1010.000000   4554077\n",
       "1234  1014.000000  1029.000000  1013.500000  11575194\n",
       "\n",
       "[1235 rows x 4 columns]"
      ]
     },
     "execution_count": 385,
     "metadata": {},
     "output_type": "execute_result"
    }
   ],
   "source": [
    "x"
   ]
  },
  {
   "cell_type": "code",
   "execution_count": 386,
   "id": "bcb3961b",
   "metadata": {},
   "outputs": [],
   "source": [
    "X_train,X_test,Y_train,Y_test=train_test_split(x,y,test_size=0.8,random_state=0)\n",
    "lreg=LinearRegression()"
   ]
  },
  {
   "cell_type": "code",
   "execution_count": 387,
   "id": "5c2ff8e7",
   "metadata": {},
   "outputs": [
    {
     "data": {
      "text/plain": [
       "LinearRegression()"
      ]
     },
     "execution_count": 387,
     "metadata": {},
     "output_type": "execute_result"
    }
   ],
   "source": [
    "lreg.fit(X_train,Y_train)"
   ]
  },
  {
   "cell_type": "code",
   "execution_count": 388,
   "id": "9faab463",
   "metadata": {},
   "outputs": [
    {
     "name": "stdout",
     "output_type": "stream",
     "text": [
      "[-4.97505387e-01  7.85173117e-01  7.11622403e-01  2.73148837e-09]\n"
     ]
    }
   ],
   "source": [
    "print(lreg.coef_)"
   ]
  },
  {
   "cell_type": "code",
   "execution_count": 389,
   "id": "e81af892",
   "metadata": {},
   "outputs": [
    {
     "name": "stdout",
     "output_type": "stream",
     "text": [
      "-0.3408076234359214\n"
     ]
    }
   ],
   "source": [
    "print(lreg.intercept_)"
   ]
  },
  {
   "cell_type": "code",
   "execution_count": 390,
   "id": "23d8a8ae",
   "metadata": {},
   "outputs": [],
   "source": [
    "predict=lreg.predict(X_test)"
   ]
  },
  {
   "cell_type": "code",
   "execution_count": 391,
   "id": "a2458f04",
   "metadata": {},
   "outputs": [
    {
     "data": {
      "text/plain": [
       "(988,)"
      ]
     },
     "execution_count": 391,
     "metadata": {},
     "output_type": "execute_result"
    }
   ],
   "source": [
    "predict.shape"
   ]
  },
  {
   "cell_type": "code",
   "execution_count": 392,
   "id": "d7bef24c",
   "metadata": {},
   "outputs": [],
   "source": [
    "dtest=pd.DataFrame({'Actaul Price':Y_test,'Predicted Price':predict})"
   ]
  },
  {
   "cell_type": "code",
   "execution_count": 393,
   "id": "340a67fd",
   "metadata": {},
   "outputs": [
    {
     "name": "stdout",
     "output_type": "stream",
     "text": [
      "      Actaul Price  Predicted Price\n",
      "1083    607.150024       608.267408\n",
      "18      184.500000       183.645273\n",
      "1099    627.049988       629.925293\n",
      "818     476.250000       472.189330\n",
      "184     200.350006       199.174927\n",
      "...            ...              ...\n",
      "83      121.349998       119.757954\n",
      "43      154.649994       157.221834\n",
      "860     407.899994       405.516081\n",
      "1187    878.500000       882.312270\n",
      "967     432.200012       435.228635\n",
      "\n",
      "[988 rows x 2 columns]\n"
     ]
    }
   ],
   "source": [
    "print(dtest)"
   ]
  },
  {
   "cell_type": "code",
   "execution_count": 394,
   "id": "c6576fa2",
   "metadata": {},
   "outputs": [
    {
     "data": {
      "text/plain": [
       "0.999826519083881"
      ]
     },
     "execution_count": 394,
     "metadata": {},
     "output_type": "execute_result"
    }
   ],
   "source": [
    "lreg.score(X_test,Y_test)"
   ]
  },
  {
   "cell_type": "code",
   "execution_count": 395,
   "id": "3b64ffed",
   "metadata": {},
   "outputs": [
    {
     "name": "stdout",
     "output_type": "stream",
     "text": [
      "Absolute mean error: 2.024258975441127\n"
     ]
    }
   ],
   "source": [
    "print(\"Absolute mean error:\",metrics.mean_absolute_error(Y_test,predict))"
   ]
  },
  {
   "cell_type": "code",
   "execution_count": 396,
   "id": "7ce3f2cc",
   "metadata": {},
   "outputs": [
    {
     "name": "stdout",
     "output_type": "stream",
     "text": [
      "Mean squared error: 7.964860547093798\n"
     ]
    }
   ],
   "source": [
    "print(\"Mean squared error:\",metrics.mean_squared_error(Y_test,predict))"
   ]
  },
  {
   "cell_type": "code",
   "execution_count": 397,
   "id": "e3c7a17f",
   "metadata": {},
   "outputs": [
    {
     "name": "stdout",
     "output_type": "stream",
     "text": [
      "Root mean squared error: 2.8222084520980726\n"
     ]
    }
   ],
   "source": [
    "print(\"Root mean squared error:\",math.sqrt(metrics.mean_squared_error(Y_test,predict)))"
   ]
  },
  {
   "cell_type": "code",
   "execution_count": null,
   "id": "77eb2f39",
   "metadata": {},
   "outputs": [],
   "source": []
  }
 ],
 "metadata": {
  "kernelspec": {
   "display_name": "Python 3 (ipykernel)",
   "language": "python",
   "name": "python3"
  },
  "language_info": {
   "codemirror_mode": {
    "name": "ipython",
    "version": 3
   },
   "file_extension": ".py",
   "mimetype": "text/x-python",
   "name": "python",
   "nbconvert_exporter": "python",
   "pygments_lexer": "ipython3",
   "version": "3.9.13"
  }
 },
 "nbformat": 4,
 "nbformat_minor": 5
}
